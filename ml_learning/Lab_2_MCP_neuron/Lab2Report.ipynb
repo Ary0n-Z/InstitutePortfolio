{
 "cells": [
  {
   "cell_type": "markdown",
   "metadata": {},
   "source": [
    "# MCP Neuron - Laboratory number 2"
   ]
  },
  {
   "cell_type": "markdown",
   "metadata": {},
   "source": [
    "## Libraries"
   ]
  },
  {
   "cell_type": "code",
   "execution_count": 1,
   "metadata": {},
   "outputs": [],
   "source": [
    "import numpy as np\n",
    "import pandas as pd\n",
    "import time\n",
    "import matplotlib.pyplot as plt\n",
    "import seaborn as sns"
   ]
  },
  {
   "cell_type": "markdown",
   "metadata": {},
   "source": [
    "## Data preparation"
   ]
  },
  {
   "cell_type": "markdown",
   "metadata": {},
   "source": [
    "### Preprocessing function"
   ]
  },
  {
   "cell_type": "code",
   "execution_count": 2,
   "metadata": {},
   "outputs": [],
   "source": [
    "def preprocess_data(df_X):\n",
    "    df_X.sort_values(by=['class'])\n",
    "    df_X = df_X[:100]\n",
    "    dictionary = {'class' : dict(zip(df_X['class'].unique(),[-1,1]))}\n",
    "    return df_X.replace(dictionary)"
   ]
  },
  {
   "cell_type": "markdown",
   "metadata": {},
   "source": [
    "### Read dataset"
   ]
  },
  {
   "cell_type": "code",
   "execution_count": 3,
   "metadata": {},
   "outputs": [],
   "source": [
    "df_X = preprocess_data(pd.read_csv('iris.csv'))"
   ]
  },
  {
   "cell_type": "markdown",
   "metadata": {},
   "source": [
    "### Target and test samples preparation"
   ]
  },
  {
   "cell_type": "code",
   "execution_count": 4,
   "metadata": {},
   "outputs": [],
   "source": [
    "data_size = len(df_X)\n",
    "train_count = int(data_size*0.8)"
   ]
  },
  {
   "cell_type": "code",
   "execution_count": 5,
   "metadata": {},
   "outputs": [
    {
     "name": "stdout",
     "output_type": "stream",
     "text": [
      "(80, 5)\n",
      "(20, 5)\n"
     ]
    }
   ],
   "source": [
    "df_X_train = df_X.sample(train_count)\n",
    "print(df_X_train.shape)\n",
    "df_X_target = df_X.sample(data_size - train_count)\n",
    "print(df_X_target.shape)"
   ]
  },
  {
   "cell_type": "markdown",
   "metadata": {},
   "source": [
    "## Neuron training"
   ]
  },
  {
   "cell_type": "markdown",
   "metadata": {},
   "source": [
    "### MPC neuron class"
   ]
  },
  {
   "cell_type": "code",
   "execution_count": 6,
   "metadata": {},
   "outputs": [],
   "source": [
    "class MCP_neuron:\n",
    "    def __init__(self):\n",
    "        self.__activization = self.__unit_step_function\n",
    "\n",
    "    def predict(self,X):\n",
    "        return self.__activization(self.__net_input(X))\n",
    "\n",
    "    def __net_input(self,X):\n",
    "        return X.dot(self.__weights) + self.__bias\n",
    "    \n",
    "    def __unit_step_function(self,net_input):\n",
    "        return np.where(net_input < 0, -1, 1)\n",
    "\n",
    "    def get_params(self):\n",
    "        return (self.__bias,self.__weights.copy())\n",
    "    \n",
    "    def __params_init(self,m,setting):\n",
    "        if setting == 'rnd':\n",
    "            self.__weights = np.random.normal(loc=0.0,scale=0.2,size=(m,1))\n",
    "            self.__bias =  np.random.normal(loc=0.0,scale=0.2)\n",
    "        else:\n",
    "            self.__weights = np.zeros((m,1))\n",
    "            self.__bias =0\n",
    "\n",
    "    def rosenblatt_learning(self,X,y,learning_rate,param_init_setting='zeros',max_iter = 100):\n",
    "        (_,m) = X.shape\n",
    "        self.__params_init(m,param_init_setting)\n",
    "        iteration_count = 0\n",
    "        train = True\n",
    "        while iteration_count < max_iter and train:\n",
    "            prev_bias = self.__bias\n",
    "            prev_weights = self.__weights.copy()\n",
    "            for xi,yi in zip(X,y):\n",
    "                prediction = self.predicts(xi)\n",
    "                error = (yi - prediction)[0]\n",
    "                delta_bias = learning_rate * error\n",
    "                delta_weights = (learning_rate * error * xi).reshape(-1,1)\n",
    "                self.__bias += delta_bias\n",
    "                self.__weights += delta_weights\n",
    "            if (self.__bias == prev_bias) and (prev_weights == self.__weights).all():\n",
    "                train = False\n",
    "            iteration_count +=1\n",
    "        print('Iterations passed : {0}'.format(iteration_count))"
   ]
  },
  {
   "cell_type": "markdown",
   "metadata": {},
   "source": [
    "### Neuron init"
   ]
  },
  {
   "cell_type": "code",
   "execution_count": 7,
   "metadata": {},
   "outputs": [],
   "source": [
    "neuron = MCP_neuron()"
   ]
  },
  {
   "cell_type": "markdown",
   "metadata": {},
   "source": [
    "### Accuracy function"
   ]
  },
  {
   "cell_type": "code",
   "execution_count": 8,
   "metadata": {},
   "outputs": [],
   "source": [
    "def accuracy(labels,prediction):\n",
    "    (n,_)=labels.shape\n",
    "    correct =  np.count_nonzero((labels - prediction) == 0)\n",
    "    return correct/n * 100"
   ]
  },
  {
   "cell_type": "markdown",
   "metadata": {},
   "source": [
    "### Training"
   ]
  },
  {
   "cell_type": "markdown",
   "metadata": {},
   "source": [
    "#### Getting the raw samples"
   ]
  },
  {
   "cell_type": "code",
   "execution_count": 9,
   "metadata": {},
   "outputs": [],
   "source": [
    "X = df_X_train.values[:,:4]\n",
    "y = df_X_train['class'].values.reshape((-1,1))"
   ]
  },
  {
   "cell_type": "markdown",
   "metadata": {},
   "source": [
    "#### Training experiments"
   ]
  },
  {
   "cell_type": "markdown",
   "metadata": {},
   "source": [
    "##### Training with learning rate = 0.1 and initial zeros params"
   ]
  },
  {
   "cell_type": "code",
   "execution_count": 10,
   "metadata": {},
   "outputs": [
    {
     "name": "stdout",
     "output_type": "stream",
     "text": [
      "Iterations passed : 2\n",
      "learning rate : 0.1\n",
      "bias : -0.2\n",
      "weights :\n",
      " [[-0.3 ]\n",
      " [-1.12]\n",
      " [ 1.38]\n",
      " [ 0.56]]\n"
     ]
    }
   ],
   "source": [
    "learning_rate = 0.1\n",
    "neuron.rosenblatt_learning(X,y,learning_rate)\n",
    "(bias,weights) = neuron.get_params()\n",
    "print('learning rate : {2}\\nbias : {0}\\nweights :\\n {1}'.format(bias,weights,learning_rate))"
   ]
  },
  {
   "cell_type": "code",
   "execution_count": 11,
   "metadata": {},
   "outputs": [
    {
     "name": "stdout",
     "output_type": "stream",
     "text": [
      "[[-1 -1  1 -1  1 -1 -1  1  1  1  1 -1  1  1  1  1  1 -1  1 -1  1  1 -1  1\n",
      "  -1  1 -1 -1  1 -1 -1 -1  1  1 -1  1 -1  1  1 -1 -1 -1 -1  1 -1 -1  1  1\n",
      "  -1  1  1  1 -1 -1 -1 -1 -1  1  1  1  1  1  1  1  1  1 -1  1  1 -1 -1 -1\n",
      "  -1 -1 -1  1 -1  1 -1  1]]\n",
      "accuracy = 100.0%\n"
     ]
    }
   ],
   "source": [
    "# check for correct work\n",
    "prediction = neuron.predict(X)\n",
    "print(prediction.T)\n",
    "print('accuracy = {0}%'.format(accuracy(df_X_train[['class']].values,prediction)))"
   ]
  },
  {
   "cell_type": "markdown",
   "metadata": {},
   "source": [
    "##### Training with learning rate = 0.0001 and initial zeros params"
   ]
  },
  {
   "cell_type": "code",
   "execution_count": 12,
   "metadata": {},
   "outputs": [
    {
     "name": "stdout",
     "output_type": "stream",
     "text": [
      "Iterations passed : 2\n",
      "learning rate : 0.0001\n",
      "bias : -0.0002\n",
      "weights :\n",
      "[[-0.0003 ]\n",
      " [-0.00112]\n",
      " [ 0.00138]\n",
      " [ 0.00056]]\n"
     ]
    }
   ],
   "source": [
    "learning_rate = 0.0001\n",
    "neuron.rosenblatt_learning(X,y,learning_rate)\n",
    "(bias,weights) = neuron.get_params()\n",
    "print('learning rate : {2}\\nbias : {0}\\nweights :\\n{1}'.format(bias,weights,learning_rate))"
   ]
  },
  {
   "cell_type": "code",
   "execution_count": 13,
   "metadata": {},
   "outputs": [
    {
     "name": "stdout",
     "output_type": "stream",
     "text": [
      "[[-1 -1  1 -1  1 -1 -1  1  1  1  1 -1  1  1  1  1  1 -1  1 -1  1  1 -1  1\n",
      "  -1  1 -1 -1  1 -1 -1 -1  1  1 -1  1 -1  1  1 -1 -1 -1 -1  1 -1 -1  1  1\n",
      "  -1  1  1  1 -1 -1 -1 -1 -1  1  1  1  1  1  1  1  1  1 -1  1  1 -1 -1 -1\n",
      "  -1 -1 -1  1 -1  1 -1  1]]\n",
      "accuracy = 100.0%\n"
     ]
    }
   ],
   "source": [
    "prediction = neuron.predict(X)\n",
    "print(prediction.T)\n",
    "print('accuracy = {0}%'.format(accuracy(df_X_train[['class']].values,prediction)))"
   ]
  },
  {
   "cell_type": "markdown",
   "metadata": {},
   "source": [
    "##### Training with learning rate = 48 and initial zeros params"
   ]
  },
  {
   "cell_type": "code",
   "execution_count": 14,
   "metadata": {},
   "outputs": [
    {
     "name": "stdout",
     "output_type": "stream",
     "text": [
      "Iterations passed : 2\n",
      "learning rate : 48\n",
      "bias : -96\n",
      "weights :\n",
      "[[-144. ]\n",
      " [-537.6]\n",
      " [ 662.4]\n",
      " [ 268.8]]\n"
     ]
    }
   ],
   "source": [
    "learning_rate = 48\n",
    "neuron.rosenblatt_learning(X,y,learning_rate)\n",
    "(bias,weights) = neuron.get_params()\n",
    "print('learning rate : {2}\\nbias : {0}\\nweights :\\n{1}'.format(bias,weights,learning_rate))"
   ]
  },
  {
   "cell_type": "code",
   "execution_count": 15,
   "metadata": {},
   "outputs": [
    {
     "name": "stdout",
     "output_type": "stream",
     "text": [
      "[[-1 -1  1 -1  1 -1 -1  1  1  1  1 -1  1  1  1  1  1 -1  1 -1  1  1 -1  1\n",
      "  -1  1 -1 -1  1 -1 -1 -1  1  1 -1  1 -1  1  1 -1 -1 -1 -1  1 -1 -1  1  1\n",
      "  -1  1  1  1 -1 -1 -1 -1 -1  1  1  1  1  1  1  1  1  1 -1  1  1 -1 -1 -1\n",
      "  -1 -1 -1  1 -1  1 -1  1]]\n",
      "accuracy = 100.0%\n"
     ]
    }
   ],
   "source": [
    "prediction = neuron.predict(X)\n",
    "print(prediction.T)\n",
    "print('accuracy = {0}%'.format(accuracy(df_X_train[['class']].values,prediction)))"
   ]
  },
  {
   "cell_type": "markdown",
   "metadata": {},
   "source": [
    "##### Training with learning rate = 0.1 and initial random params ~ N(0,0.2)"
   ]
  },
  {
   "cell_type": "code",
   "execution_count": 16,
   "metadata": {},
   "outputs": [
    {
     "name": "stdout",
     "output_type": "stream",
     "text": [
      "Iterations passed : 2\n",
      "bias : 0.14777375522601094\n",
      "weights :\n",
      "[[-0.22857713]\n",
      " [-1.01846566]\n",
      " [ 1.15651173]\n",
      " [ 0.83349783]]\n"
     ]
    }
   ],
   "source": [
    "neuron.rosenblatt_learning(X,y,0.1,'rnd')\n",
    "(bias,weights) = neuron.get_params()\n",
    "print('bias : {0}\\nweights :\\n{1}'.format(bias,weights))"
   ]
  },
  {
   "cell_type": "code",
   "execution_count": 17,
   "metadata": {},
   "outputs": [
    {
     "name": "stdout",
     "output_type": "stream",
     "text": [
      "[[-1 -1  1 -1  1 -1 -1  1  1  1  1 -1  1  1  1  1  1 -1  1 -1  1  1 -1  1\n",
      "  -1  1 -1 -1  1 -1 -1 -1  1  1 -1  1 -1  1  1 -1 -1 -1 -1  1 -1 -1  1  1\n",
      "  -1  1  1  1 -1 -1 -1 -1 -1  1  1  1  1  1  1  1  1  1 -1  1  1 -1 -1 -1\n",
      "  -1 -1 -1  1 -1  1 -1  1]]\n",
      "accuracy = 100.0%\n"
     ]
    }
   ],
   "source": [
    "prediction = neuron.predict(X)\n",
    "print(prediction.T)\n",
    "print('accuracy = {0}%'.format(accuracy(df_X_train[['class']].values,prediction)))"
   ]
  },
  {
   "cell_type": "markdown",
   "metadata": {},
   "source": [
    "##### Training with learning rate = 0.0001 and initial random params ~ N(0,0.2)"
   ]
  },
  {
   "cell_type": "code",
   "execution_count": 18,
   "metadata": {},
   "outputs": [
    {
     "name": "stdout",
     "output_type": "stream",
     "text": [
      "Iterations passed : 7\n",
      "bias : -0.1892800569260035\n",
      "weights :\n",
      "[[-0.10360733]\n",
      " [ 0.11599995]\n",
      " [ 0.11762594]\n",
      " [ 0.10086823]]\n"
     ]
    }
   ],
   "source": [
    "neuron.rosenblatt_learning(X,y,0.001,'rnd')\n",
    "(bias,weights) = neuron.get_params()\n",
    "print('bias : {0}\\nweights :\\n{1}'.format(bias,weights))"
   ]
  },
  {
   "cell_type": "code",
   "execution_count": 19,
   "metadata": {},
   "outputs": [
    {
     "name": "stdout",
     "output_type": "stream",
     "text": [
      "[[-1 -1  1 -1  1 -1 -1  1  1  1  1 -1  1  1  1  1  1 -1  1 -1  1  1 -1  1\n",
      "  -1  1 -1 -1  1 -1 -1 -1  1  1 -1  1 -1  1  1 -1 -1 -1 -1  1 -1 -1  1  1\n",
      "  -1  1  1  1 -1 -1 -1 -1 -1  1  1  1  1  1  1  1  1  1 -1  1  1 -1 -1 -1\n",
      "  -1 -1 -1  1 -1  1 -1  1]]\n",
      "accuracy = 100.0%\n"
     ]
    }
   ],
   "source": [
    "prediction = neuron.predict(X)\n",
    "print(prediction.T)\n",
    "print('accuracy = {0}%'.format(accuracy(df_X_train[['class']].values,prediction)))"
   ]
  },
  {
   "cell_type": "markdown",
   "metadata": {},
   "source": [
    "##### Training with learning rate = 48 and initial random params ~ N(0,0.2)"
   ]
  },
  {
   "cell_type": "code",
   "execution_count": 20,
   "metadata": {},
   "outputs": [
    {
     "name": "stdout",
     "output_type": "stream",
     "text": [
      "Iterations passed : 2\n",
      "bias : -95.89660087332162\n",
      "weights :\n",
      "[[-143.93866824]\n",
      " [-537.5264463 ]\n",
      " [ 662.50996747]\n",
      " [ 268.78158516]]\n"
     ]
    }
   ],
   "source": [
    "neuron.rosenblatt_learning(X,y,48,'rnd')\n",
    "(bias,weights) = neuron.get_params()\n",
    "print('bias : {0}\\nweights :\\n{1}'.format(bias,weights))"
   ]
  },
  {
   "cell_type": "code",
   "execution_count": 21,
   "metadata": {},
   "outputs": [
    {
     "name": "stdout",
     "output_type": "stream",
     "text": [
      "[[-1 -1  1 -1  1 -1 -1  1  1  1  1 -1  1  1  1  1  1 -1  1 -1  1  1 -1  1\n",
      "  -1  1 -1 -1  1 -1 -1 -1  1  1 -1  1 -1  1  1 -1 -1 -1 -1  1 -1 -1  1  1\n",
      "  -1  1  1  1 -1 -1 -1 -1 -1  1  1  1  1  1  1  1  1  1 -1  1  1 -1 -1 -1\n",
      "  -1 -1 -1  1 -1  1 -1  1]]\n",
      "accuracy = 100.0%\n"
     ]
    }
   ],
   "source": [
    "prediction = neuron.predict(X)\n",
    "print(prediction.T)\n",
    "print('accuracy = {0}%'.format(accuracy(df_X_train[['class']].values,prediction)))"
   ]
  },
  {
   "cell_type": "markdown",
   "metadata": {},
   "source": [
    "#### Findings"
   ]
  },
  {
   "cell_type": "markdown",
   "metadata": {},
   "source": [
    "Since the decision boundary can be represented by the plane,\n",
    "convergence rate depends on speed of approaching the desired\n",
    "proportion of scales, which depends on learning rate and \n",
    "... somthing else ..."
   ]
  },
  {
   "cell_type": "markdown",
   "metadata": {},
   "source": [
    "## Prediction of the target samples"
   ]
  },
  {
   "cell_type": "markdown",
   "metadata": {},
   "source": [
    "### Retrain"
   ]
  },
  {
   "cell_type": "code",
   "execution_count": 22,
   "metadata": {},
   "outputs": [
    {
     "name": "stdout",
     "output_type": "stream",
     "text": [
      "Iterations passed : 2\n"
     ]
    }
   ],
   "source": [
    "learning_rate = 0.1\n",
    "neuron.rosenblatt_learning(X,y,learning_rate)"
   ]
  },
  {
   "cell_type": "markdown",
   "metadata": {},
   "source": [
    "## Predict"
   ]
  },
  {
   "cell_type": "code",
   "execution_count": 23,
   "metadata": {},
   "outputs": [],
   "source": [
    "X_target = df_X_target.values[:,:4]\n",
    "y_target = np.array([df_X_target['class'].values]).T"
   ]
  },
  {
   "cell_type": "code",
   "execution_count": 24,
   "metadata": {},
   "outputs": [
    {
     "name": "stdout",
     "output_type": "stream",
     "text": [
      "    class  prediction\n",
      "8      -1          -1\n",
      "59      1           1\n",
      "93      1           1\n",
      "21     -1          -1\n",
      "53      1           1\n",
      "5      -1          -1\n",
      "9      -1          -1\n",
      "22     -1          -1\n",
      "64      1           1\n",
      "65      1           1\n",
      "19     -1          -1\n",
      "90      1           1\n",
      "27     -1          -1\n",
      "41     -1          -1\n",
      "91      1           1\n",
      "54      1           1\n",
      "62      1           1\n",
      "35     -1          -1\n",
      "12     -1          -1\n",
      "85      1           1\n",
      "accuracy = 100.0%\n"
     ]
    }
   ],
   "source": [
    "prediction = neuron.predict(X_target)\n",
    "df_X_target['prediction'] = prediction\n",
    "print(df_X_target[['class','prediction']])\n",
    "print('accuracy = {0}%'.format(accuracy(y_target,prediction)))"
   ]
  },
  {
   "cell_type": "markdown",
   "metadata": {},
   "source": [
    "### Class and prediction ilustration"
   ]
  },
  {
   "cell_type": "code",
   "execution_count": 25,
   "metadata": {},
   "outputs": [
    {
     "data": {
      "image/png": "[encoded data removed]",
      "text/plain": [
       "<Figure size 864x288 with 2 Axes>"
      ]
     },
     "metadata": {
      "needs_background": "light"
     },
     "output_type": "display_data"
    }
   ],
   "source": [
    "plt.figure(figsize=(12,4))\n",
    "plt.subplot(1,2,1)\n",
    "#prediction\n",
    "sns.scatterplot(data=df_X_target,palette=sns.color_palette(n_colors=2),legend=\"full\", x=\"sepal length\",y=\"sepal width\",hue=\"prediction\")\n",
    "plt.subplot(1,2,2)\n",
    "#class\n",
    "sns.scatterplot(data=df_X_target,palette=sns.color_palette(n_colors=2),legend=\"full\", x=\"sepal length\",y=\"sepal width\",hue=\"class\")\n",
    "plt.subplots_adjust(hspace=0.4, wspace=0.4)\n",
    "plt.show()"
   ]
  }
 ],
 "metadata": {
  "kernelspec": {
   "display_name": "Python 3",
   "language": "python",
   "name": "python3"
  },
  "language_info": {
   "codemirror_mode": {
    "name": "ipython",
    "version": 3
   },
   "file_extension": ".py",
   "mimetype": "text/x-python",
   "name": "python",
   "nbconvert_exporter": "python",
   "pygments_lexer": "ipython3",
   "version": "3.7.2"
  }
 },
 "nbformat": 4,
 "nbformat_minor": 2
}
