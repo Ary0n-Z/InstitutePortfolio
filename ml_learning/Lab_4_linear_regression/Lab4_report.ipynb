{
 "cells": [
  {
   "cell_type": "markdown",
   "metadata": {},
   "source": [
    "Author: Aleksejs Anufrijevs\n",
    "Group: 4502BD"
   ]
  },
  {
   "cell_type": "markdown",
   "metadata": {},
   "source": [
    "# Lab 4 - Linear Regression"
   ]
  },
  {
   "cell_type": "markdown",
   "metadata": {},
   "source": [
    "## Libraries"
   ]
  },
  {
   "cell_type": "code",
   "execution_count": 1,
   "metadata": {},
   "outputs": [],
   "source": [
    "import numpy as np\n",
    "from numpy.linalg import inv\n",
    "from numpy.random import normal\n",
    "import pandas as pd\n",
    "import sklearn\n",
    "from sklearn.model_selection import train_test_split\n",
    "from sklearn.linear_model import LinearRegression\n",
    "from sklearn.metrics import mean_absolute_error\n",
    "from sklearn.metrics import mean_squared_error\n",
    "import matplotlib.pyplot as plt"
   ]
  },
  {
   "cell_type": "markdown",
   "metadata": {},
   "source": [
    "## Linear regression class"
   ]
  },
  {
   "cell_type": "code",
   "execution_count": 2,
   "metadata": {},
   "outputs": [],
   "source": [
    "class linear_regression:\n",
    "    def __init__(self):\n",
    "        self.__params = None\n",
    "        self.coef_ = None\n",
    "\n",
    "    def fit(self,X,y):\n",
    "        n,_= X.shape\n",
    "        X = np.append(np.ones((n,1)),X,axis=1)\n",
    "        X_T = X.T\n",
    "        A = np.dot(X_T,X)\n",
    "        b = np.dot(X_T,y)\n",
    "        self.__params = np.dot(inv(A),b)\n",
    "        #self.__params = np.linalg.solve(A,b)\n",
    "        self.coef_ = self.__params[1:,:].copy()\n",
    "        return self\n",
    "\n",
    "    def predict(self,X):\n",
    "        n,_= X.shape\n",
    "        X = np.append(np.ones((n,1)),X,axis=1)\n",
    "        return X.dot(self.__params)\n",
    "\n",
    "    def score(self,X, y):\n",
    "        y_predict = self.predict(X)\n",
    "        u = ((y - y_predict)**2).sum()\n",
    "        v = ((y - y_predict.mean())**2).sum()\n",
    "        return (1-u/v)"
   ]
  },
  {
   "cell_type": "markdown",
   "metadata": {},
   "source": [
    "## Init linear regressions algorithms"
   ]
  },
  {
   "cell_type": "markdown",
   "metadata": {},
   "source": [
    "### My version"
   ]
  },
  {
   "cell_type": "code",
   "execution_count": 3,
   "metadata": {},
   "outputs": [],
   "source": [
    "my_linreg = linear_regression()"
   ]
  },
  {
   "cell_type": "markdown",
   "metadata": {},
   "source": [
    "### Sklearn version"
   ]
  },
  {
   "cell_type": "code",
   "execution_count": 4,
   "metadata": {},
   "outputs": [],
   "source": [
    "sk_linreg = LinearRegression()"
   ]
  },
  {
   "cell_type": "markdown",
   "metadata": {},
   "source": [
    "## Restore line using points"
   ]
  },
  {
   "cell_type": "code",
   "execution_count": 5,
   "metadata": {},
   "outputs": [],
   "source": [
    "n_points = 10"
   ]
  },
  {
   "cell_type": "markdown",
   "metadata": {},
   "source": [
    "### Init x values"
   ]
  },
  {
   "cell_type": "code",
   "execution_count": 6,
   "metadata": {},
   "outputs": [
    {
     "name": "stdout",
     "output_type": "stream",
     "text": [
      "x =\n",
      " [[0]\n",
      " [1]\n",
      " [2]\n",
      " [3]\n",
      " [4]\n",
      " [5]\n",
      " [6]\n",
      " [7]\n",
      " [8]\n",
      " [9]]\n"
     ]
    }
   ],
   "source": [
    "X_points = np.arange(n_points).reshape((n_points,1))\n",
    "print('x =\\n',X_points)"
   ]
  },
  {
   "cell_type": "markdown",
   "metadata": {},
   "source": [
    "### Init y values"
   ]
  },
  {
   "cell_type": "code",
   "execution_count": 7,
   "metadata": {},
   "outputs": [
    {
     "name": "stdout",
     "output_type": "stream",
     "text": [
      "y =\n",
      " [[-2.60076422]\n",
      " [ 1.65006226]\n",
      " [ 1.83183029]\n",
      " [ 0.98601376]\n",
      " [ 3.16094593]\n",
      " [ 7.1821403 ]\n",
      " [ 5.97531683]\n",
      " [ 8.57486719]\n",
      " [ 6.3273144 ]\n",
      " [ 7.40873515]]\n"
     ]
    }
   ],
   "source": [
    "y_points = (np.arange(n_points) + normal(loc=0,scale=2,size=n_points)).reshape((n_points,1))\n",
    "print('y =\\n',y_points)"
   ]
  },
  {
   "cell_type": "markdown",
   "metadata": {},
   "source": [
    "### Train algorithms"
   ]
  },
  {
   "cell_type": "code",
   "execution_count": 8,
   "metadata": {},
   "outputs": [],
   "source": [
    "my_linreg.fit(X_points,y_points);\n",
    "sk_linreg.fit(X_points,y_points);"
   ]
  },
  {
   "cell_type": "code",
   "execution_count": 9,
   "metadata": {},
   "outputs": [
    {
     "data": {
      "text/plain": [
       "array([[1.0638215]])"
      ]
     },
     "execution_count": 9,
     "metadata": {},
     "output_type": "execute_result"
    }
   ],
   "source": [
    "sk_linreg.coef_"
   ]
  },
  {
   "cell_type": "code",
   "execution_count": 10,
   "metadata": {},
   "outputs": [
    {
     "data": {
      "text/plain": [
       "array([[1.0638215]])"
      ]
     },
     "execution_count": 10,
     "metadata": {},
     "output_type": "execute_result"
    }
   ],
   "source": [
    "my_linreg.coef_"
   ]
  },
  {
   "cell_type": "markdown",
   "metadata": {},
   "source": [
    "### Show train results"
   ]
  },
  {
   "cell_type": "markdown",
   "metadata": {},
   "source": [
    "#### Plot"
   ]
  },
  {
   "cell_type": "code",
   "execution_count": 11,
   "metadata": {},
   "outputs": [],
   "source": [
    "line_x = np.array([X_points[0],X_points[n_points-1]])"
   ]
  },
  {
   "cell_type": "markdown",
   "metadata": {},
   "source": [
    "##### My line"
   ]
  },
  {
   "cell_type": "code",
   "execution_count": 12,
   "metadata": {},
   "outputs": [],
   "source": [
    "my_line_y = my_linreg.predict(line_x)"
   ]
  },
  {
   "cell_type": "markdown",
   "metadata": {},
   "source": [
    "##### Sk line"
   ]
  },
  {
   "cell_type": "code",
   "execution_count": 13,
   "metadata": {},
   "outputs": [],
   "source": [
    "sk_line_y = sk_linreg.predict(line_x)"
   ]
  },
  {
   "cell_type": "code",
   "execution_count": 14,
   "metadata": {},
   "outputs": [
    {
     "data": {
      "image/png": "[encoded data removed]",
      "text/plain": [
       "<Figure size 432x288 with 1 Axes>"
      ]
     },
     "metadata": {
      "needs_background": "light"
     },
     "output_type": "display_data"
    }
   ],
   "source": [
    "plt.scatter(X_points,y_points)\n",
    "plt.plot(line_x,line_x,'bo-',label = 'Predicted line',linewidth=0.5)\n",
    "plt.plot(line_x,my_line_y,'ro-',label = 'my lin_reg',linewidth=0.5)\n",
    "plt.plot(line_x,sk_line_y,'go-',label = 'sk lin_reg',linewidth=0.5)\n",
    "plt.legend()\n",
    "plt.show()"
   ]
  },
  {
   "cell_type": "markdown",
   "metadata": {},
   "source": [
    "### Metrics"
   ]
  },
  {
   "cell_type": "markdown",
   "metadata": {},
   "source": [
    "#### Prediction"
   ]
  },
  {
   "cell_type": "code",
   "execution_count": 15,
   "metadata": {},
   "outputs": [],
   "source": [
    "my_y_pred = my_linreg.predict(X_points)\n",
    "sk_y_pred = sk_linreg.predict(X_points)"
   ]
  },
  {
   "cell_type": "markdown",
   "metadata": {},
   "source": [
    "#### R^2 "
   ]
  },
  {
   "cell_type": "markdown",
   "metadata": {},
   "source": [
    "{-1;1}, 0 is bad, 1 or -1 is good"
   ]
  },
  {
   "cell_type": "code",
   "execution_count": 16,
   "metadata": {},
   "outputs": [
    {
     "name": "stdout",
     "output_type": "stream",
     "text": [
      "my =  0.8080195827753817\n",
      "sk =  0.8080195827753817\n"
     ]
    }
   ],
   "source": [
    "print('my = ',my_linreg.score(X_points,y_points))\n",
    "print('sk = ',sk_linreg.score(X_points,y_points))"
   ]
  },
  {
   "cell_type": "markdown",
   "metadata": {},
   "source": [
    "#### Mean absolute error"
   ]
  },
  {
   "cell_type": "markdown",
   "metadata": {},
   "source": [
    "0 is good"
   ]
  },
  {
   "cell_type": "code",
   "execution_count": 17,
   "metadata": {},
   "outputs": [
    {
     "name": "stdout",
     "output_type": "stream",
     "text": [
      "my =  1.312343633561793\n",
      "sk =  1.312343633561793\n"
     ]
    }
   ],
   "source": [
    "print('my = ',mean_absolute_error(my_y_pred,y_points))\n",
    "print('sk = ',mean_absolute_error(sk_y_pred,y_points))"
   ]
  },
  {
   "cell_type": "markdown",
   "metadata": {},
   "source": [
    "#### Mean squared error"
   ]
  },
  {
   "cell_type": "markdown",
   "metadata": {},
   "source": [
    "0 is good"
   ]
  },
  {
   "cell_type": "code",
   "execution_count": 18,
   "metadata": {},
   "outputs": [
    {
     "name": "stdout",
     "output_type": "stream",
     "text": [
      "my =  2.2183318746744707\n",
      "sk =  2.2183318746744702\n"
     ]
    }
   ],
   "source": [
    "print('my = ',mean_squared_error(my_y_pred,y_points))\n",
    "print('sk = ',mean_squared_error(sk_y_pred,y_points))"
   ]
  },
  {
   "cell_type": "markdown",
   "metadata": {},
   "source": [
    "## Computer relative performance"
   ]
  },
  {
   "cell_type": "markdown",
   "metadata": {},
   "source": [
    "### Read data"
   ]
  },
  {
   "cell_type": "code",
   "execution_count": 19,
   "metadata": {},
   "outputs": [],
   "source": [
    "headers = ['vendor','myct','mmin','mmax','cach','chmin','chmax','prp','erp']\n",
    "df = pd.read_csv('machine.data',index_col=1,sep=',',header=None,names=headers)"
   ]
  },
  {
   "cell_type": "markdown",
   "metadata": {},
   "source": [
    "### Preprocess data"
   ]
  },
  {
   "cell_type": "code",
   "execution_count": 20,
   "metadata": {},
   "outputs": [],
   "source": [
    "n = len(df)"
   ]
  },
  {
   "cell_type": "code",
   "execution_count": 21,
   "metadata": {},
   "outputs": [],
   "source": [
    "y = df['prp'].values # value for prediction\n",
    "df.drop(columns=['prp','erp'],inplace=True)\n",
    "df_dummies = pd.get_dummies(df,drop_first =True)# for future use\n",
    "df.drop(columns=['vendor'],inplace=True)"
   ]
  },
  {
   "cell_type": "code",
   "execution_count": 22,
   "metadata": {},
   "outputs": [
    {
     "name": "stdout",
     "output_type": "stream",
     "text": [
      "Has 'None' =  False\n"
     ]
    }
   ],
   "source": [
    "print('Has \\'None\\' = ',df.isin(['None']).any(axis=None))"
   ]
  },
  {
   "cell_type": "markdown",
   "metadata": {},
   "source": [
    "### Prediction without non-digit values"
   ]
  },
  {
   "cell_type": "code",
   "execution_count": 23,
   "metadata": {},
   "outputs": [
    {
     "data": {
      "text/html": [
       "<div>\n",
       "<style scoped>\n",
       "    .dataframe tbody tr th:only-of-type {\n",
       "        vertical-align: middle;\n",
       "    }\n",
       "\n",
       "    .dataframe tbody tr th {\n",
       "        vertical-align: top;\n",
       "    }\n",
       "\n",
       "    .dataframe thead th {\n",
       "        text-align: right;\n",
       "    }\n",
       "</style>\n",
       "<table border=\"1\" class=\"dataframe\">\n",
       "  <thead>\n",
       "    <tr style=\"text-align: right;\">\n",
       "      <th></th>\n",
       "      <th>myct</th>\n",
       "      <th>mmin</th>\n",
       "      <th>mmax</th>\n",
       "      <th>cach</th>\n",
       "      <th>chmin</th>\n",
       "      <th>chmax</th>\n",
       "    </tr>\n",
       "  </thead>\n",
       "  <tbody>\n",
       "    <tr>\n",
       "      <th>32/60</th>\n",
       "      <td>125</td>\n",
       "      <td>256</td>\n",
       "      <td>6000</td>\n",
       "      <td>256</td>\n",
       "      <td>16</td>\n",
       "      <td>128</td>\n",
       "    </tr>\n",
       "    <tr>\n",
       "      <th>470v/7</th>\n",
       "      <td>29</td>\n",
       "      <td>8000</td>\n",
       "      <td>32000</td>\n",
       "      <td>32</td>\n",
       "      <td>8</td>\n",
       "      <td>32</td>\n",
       "    </tr>\n",
       "    <tr>\n",
       "      <th>470v/7a</th>\n",
       "      <td>29</td>\n",
       "      <td>8000</td>\n",
       "      <td>32000</td>\n",
       "      <td>32</td>\n",
       "      <td>8</td>\n",
       "      <td>32</td>\n",
       "    </tr>\n",
       "    <tr>\n",
       "      <th>470v/7b</th>\n",
       "      <td>29</td>\n",
       "      <td>8000</td>\n",
       "      <td>32000</td>\n",
       "      <td>32</td>\n",
       "      <td>8</td>\n",
       "      <td>32</td>\n",
       "    </tr>\n",
       "    <tr>\n",
       "      <th>470v/7c</th>\n",
       "      <td>29</td>\n",
       "      <td>8000</td>\n",
       "      <td>16000</td>\n",
       "      <td>32</td>\n",
       "      <td>8</td>\n",
       "      <td>16</td>\n",
       "    </tr>\n",
       "  </tbody>\n",
       "</table>\n",
       "</div>"
      ],
      "text/plain": [
       "         myct  mmin   mmax  cach  chmin  chmax\n",
       "32/60     125   256   6000   256     16    128\n",
       "470v/7     29  8000  32000    32      8     32\n",
       "470v/7a    29  8000  32000    32      8     32\n",
       "470v/7b    29  8000  32000    32      8     32\n",
       "470v/7c    29  8000  16000    32      8     16"
      ]
     },
     "execution_count": 23,
     "metadata": {},
     "output_type": "execute_result"
    }
   ],
   "source": [
    "df.head()"
   ]
  },
  {
   "cell_type": "markdown",
   "metadata": {},
   "source": [
    "#### Data"
   ]
  },
  {
   "cell_type": "code",
   "execution_count": 24,
   "metadata": {},
   "outputs": [],
   "source": [
    "(n,m) = df.shape\n",
    "y = y.reshape((n,1))\n",
    "X = df.values"
   ]
  },
  {
   "cell_type": "markdown",
   "metadata": {},
   "source": [
    "#### Train"
   ]
  },
  {
   "cell_type": "code",
   "execution_count": 25,
   "metadata": {},
   "outputs": [],
   "source": [
    "my_linreg.fit(X,y);\n",
    "sk_linreg.fit(X,y);"
   ]
  },
  {
   "cell_type": "markdown",
   "metadata": {},
   "source": [
    "#### Params"
   ]
  },
  {
   "cell_type": "code",
   "execution_count": 26,
   "metadata": {},
   "outputs": [
    {
     "data": {
      "text/html": [
       "<div>\n",
       "<style scoped>\n",
       "    .dataframe tbody tr th:only-of-type {\n",
       "        vertical-align: middle;\n",
       "    }\n",
       "\n",
       "    .dataframe tbody tr th {\n",
       "        vertical-align: top;\n",
       "    }\n",
       "\n",
       "    .dataframe thead th {\n",
       "        text-align: right;\n",
       "    }\n",
       "</style>\n",
       "<table border=\"1\" class=\"dataframe\">\n",
       "  <thead>\n",
       "    <tr style=\"text-align: right;\">\n",
       "      <th></th>\n",
       "      <th>My</th>\n",
       "      <th>Sk</th>\n",
       "    </tr>\n",
       "  </thead>\n",
       "  <tbody>\n",
       "    <tr>\n",
       "      <th>0</th>\n",
       "      <td>0.048855</td>\n",
       "      <td>0.048855</td>\n",
       "    </tr>\n",
       "    <tr>\n",
       "      <th>1</th>\n",
       "      <td>0.015293</td>\n",
       "      <td>0.015293</td>\n",
       "    </tr>\n",
       "    <tr>\n",
       "      <th>2</th>\n",
       "      <td>0.005571</td>\n",
       "      <td>0.005571</td>\n",
       "    </tr>\n",
       "    <tr>\n",
       "      <th>3</th>\n",
       "      <td>0.641401</td>\n",
       "      <td>0.641401</td>\n",
       "    </tr>\n",
       "    <tr>\n",
       "      <th>4</th>\n",
       "      <td>-0.270358</td>\n",
       "      <td>-0.270358</td>\n",
       "    </tr>\n",
       "    <tr>\n",
       "      <th>5</th>\n",
       "      <td>1.482472</td>\n",
       "      <td>1.482472</td>\n",
       "    </tr>\n",
       "  </tbody>\n",
       "</table>\n",
       "</div>"
      ],
      "text/plain": [
       "         My        Sk\n",
       "0  0.048855  0.048855\n",
       "1  0.015293  0.015293\n",
       "2  0.005571  0.005571\n",
       "3  0.641401  0.641401\n",
       "4 -0.270358 -0.270358\n",
       "5  1.482472  1.482472"
      ]
     },
     "execution_count": 26,
     "metadata": {},
     "output_type": "execute_result"
    }
   ],
   "source": [
    "df_params = pd.DataFrame({'My':my_linreg.coef_.flatten(),'Sk':sk_linreg.coef_.flatten()})\n",
    "df_params"
   ]
  },
  {
   "cell_type": "markdown",
   "metadata": {},
   "source": [
    "#### prediction metrics"
   ]
  },
  {
   "cell_type": "code",
   "execution_count": 27,
   "metadata": {},
   "outputs": [],
   "source": [
    "my_y_pred = my_linreg.predict(X)\n",
    "sk_y_pred = sk_linreg.predict(X)"
   ]
  },
  {
   "cell_type": "code",
   "execution_count": 28,
   "metadata": {},
   "outputs": [
    {
     "name": "stdout",
     "output_type": "stream",
     "text": [
      "R^2:\n",
      "\tmy: 0.8648906922768672\n",
      "\tsk =  0.8648906922768671\n",
      "MAE:\n",
      "\tmy: 37.945441714607234\n",
      "\tsk =  37.94544171460721\n",
      "MSE:\n",
      "\tmy: 3478.0866756153555\n",
      "\tsk =  3478.0866756153564\n"
     ]
    }
   ],
   "source": [
    "print('R^2:\\n\\tmy:',my_linreg.score(X,y))\n",
    "print('\\tsk = ',sk_linreg.score(X,y))\n",
    "print('MAE:\\n\\tmy:',mean_absolute_error(y,my_y_pred))\n",
    "print('\\tsk = ',mean_absolute_error(y,sk_y_pred))\n",
    "print('MSE:\\n\\tmy:',mean_squared_error(y,my_y_pred))\n",
    "print('\\tsk = ',mean_squared_error(y,sk_y_pred))"
   ]
  },
  {
   "cell_type": "markdown",
   "metadata": {},
   "source": [
    "### Prediction with dummies"
   ]
  },
  {
   "cell_type": "markdown",
   "metadata": {},
   "source": [
    "####  dummies"
   ]
  },
  {
   "cell_type": "code",
   "execution_count": 29,
   "metadata": {},
   "outputs": [
    {
     "data": {
      "text/html": [
       "<div>\n",
       "<style scoped>\n",
       "    .dataframe tbody tr th:only-of-type {\n",
       "        vertical-align: middle;\n",
       "    }\n",
       "\n",
       "    .dataframe tbody tr th {\n",
       "        vertical-align: top;\n",
       "    }\n",
       "\n",
       "    .dataframe thead th {\n",
       "        text-align: right;\n",
       "    }\n",
       "</style>\n",
       "<table border=\"1\" class=\"dataframe\">\n",
       "  <thead>\n",
       "    <tr style=\"text-align: right;\">\n",
       "      <th></th>\n",
       "      <th>myct</th>\n",
       "      <th>mmin</th>\n",
       "      <th>mmax</th>\n",
       "      <th>cach</th>\n",
       "      <th>chmin</th>\n",
       "      <th>chmax</th>\n",
       "      <th>vendor_amdahl</th>\n",
       "      <th>vendor_apollo</th>\n",
       "      <th>vendor_basf</th>\n",
       "      <th>vendor_bti</th>\n",
       "      <th>...</th>\n",
       "      <th>vendor_microdata</th>\n",
       "      <th>vendor_nas</th>\n",
       "      <th>vendor_ncr</th>\n",
       "      <th>vendor_nixdorf</th>\n",
       "      <th>vendor_perkin-elmer</th>\n",
       "      <th>vendor_prime</th>\n",
       "      <th>vendor_siemens</th>\n",
       "      <th>vendor_sperry</th>\n",
       "      <th>vendor_sratus</th>\n",
       "      <th>vendor_wang</th>\n",
       "    </tr>\n",
       "  </thead>\n",
       "  <tbody>\n",
       "    <tr>\n",
       "      <th>32/60</th>\n",
       "      <td>125</td>\n",
       "      <td>256</td>\n",
       "      <td>6000</td>\n",
       "      <td>256</td>\n",
       "      <td>16</td>\n",
       "      <td>128</td>\n",
       "      <td>0</td>\n",
       "      <td>0</td>\n",
       "      <td>0</td>\n",
       "      <td>0</td>\n",
       "      <td>...</td>\n",
       "      <td>0</td>\n",
       "      <td>0</td>\n",
       "      <td>0</td>\n",
       "      <td>0</td>\n",
       "      <td>0</td>\n",
       "      <td>0</td>\n",
       "      <td>0</td>\n",
       "      <td>0</td>\n",
       "      <td>0</td>\n",
       "      <td>0</td>\n",
       "    </tr>\n",
       "    <tr>\n",
       "      <th>470v/7</th>\n",
       "      <td>29</td>\n",
       "      <td>8000</td>\n",
       "      <td>32000</td>\n",
       "      <td>32</td>\n",
       "      <td>8</td>\n",
       "      <td>32</td>\n",
       "      <td>1</td>\n",
       "      <td>0</td>\n",
       "      <td>0</td>\n",
       "      <td>0</td>\n",
       "      <td>...</td>\n",
       "      <td>0</td>\n",
       "      <td>0</td>\n",
       "      <td>0</td>\n",
       "      <td>0</td>\n",
       "      <td>0</td>\n",
       "      <td>0</td>\n",
       "      <td>0</td>\n",
       "      <td>0</td>\n",
       "      <td>0</td>\n",
       "      <td>0</td>\n",
       "    </tr>\n",
       "    <tr>\n",
       "      <th>470v/7a</th>\n",
       "      <td>29</td>\n",
       "      <td>8000</td>\n",
       "      <td>32000</td>\n",
       "      <td>32</td>\n",
       "      <td>8</td>\n",
       "      <td>32</td>\n",
       "      <td>1</td>\n",
       "      <td>0</td>\n",
       "      <td>0</td>\n",
       "      <td>0</td>\n",
       "      <td>...</td>\n",
       "      <td>0</td>\n",
       "      <td>0</td>\n",
       "      <td>0</td>\n",
       "      <td>0</td>\n",
       "      <td>0</td>\n",
       "      <td>0</td>\n",
       "      <td>0</td>\n",
       "      <td>0</td>\n",
       "      <td>0</td>\n",
       "      <td>0</td>\n",
       "    </tr>\n",
       "    <tr>\n",
       "      <th>470v/7b</th>\n",
       "      <td>29</td>\n",
       "      <td>8000</td>\n",
       "      <td>32000</td>\n",
       "      <td>32</td>\n",
       "      <td>8</td>\n",
       "      <td>32</td>\n",
       "      <td>1</td>\n",
       "      <td>0</td>\n",
       "      <td>0</td>\n",
       "      <td>0</td>\n",
       "      <td>...</td>\n",
       "      <td>0</td>\n",
       "      <td>0</td>\n",
       "      <td>0</td>\n",
       "      <td>0</td>\n",
       "      <td>0</td>\n",
       "      <td>0</td>\n",
       "      <td>0</td>\n",
       "      <td>0</td>\n",
       "      <td>0</td>\n",
       "      <td>0</td>\n",
       "    </tr>\n",
       "    <tr>\n",
       "      <th>470v/7c</th>\n",
       "      <td>29</td>\n",
       "      <td>8000</td>\n",
       "      <td>16000</td>\n",
       "      <td>32</td>\n",
       "      <td>8</td>\n",
       "      <td>16</td>\n",
       "      <td>1</td>\n",
       "      <td>0</td>\n",
       "      <td>0</td>\n",
       "      <td>0</td>\n",
       "      <td>...</td>\n",
       "      <td>0</td>\n",
       "      <td>0</td>\n",
       "      <td>0</td>\n",
       "      <td>0</td>\n",
       "      <td>0</td>\n",
       "      <td>0</td>\n",
       "      <td>0</td>\n",
       "      <td>0</td>\n",
       "      <td>0</td>\n",
       "      <td>0</td>\n",
       "    </tr>\n",
       "  </tbody>\n",
       "</table>\n",
       "<p>5 rows × 35 columns</p>\n",
       "</div>"
      ],
      "text/plain": [
       "         myct  mmin   mmax  cach  chmin  chmax  vendor_amdahl  vendor_apollo  \\\n",
       "32/60     125   256   6000   256     16    128              0              0   \n",
       "470v/7     29  8000  32000    32      8     32              1              0   \n",
       "470v/7a    29  8000  32000    32      8     32              1              0   \n",
       "470v/7b    29  8000  32000    32      8     32              1              0   \n",
       "470v/7c    29  8000  16000    32      8     16              1              0   \n",
       "\n",
       "         vendor_basf  vendor_bti  ...  vendor_microdata  vendor_nas  \\\n",
       "32/60              0           0  ...                 0           0   \n",
       "470v/7             0           0  ...                 0           0   \n",
       "470v/7a            0           0  ...                 0           0   \n",
       "470v/7b            0           0  ...                 0           0   \n",
       "470v/7c            0           0  ...                 0           0   \n",
       "\n",
       "         vendor_ncr  vendor_nixdorf  vendor_perkin-elmer  vendor_prime  \\\n",
       "32/60             0               0                    0             0   \n",
       "470v/7            0               0                    0             0   \n",
       "470v/7a           0               0                    0             0   \n",
       "470v/7b           0               0                    0             0   \n",
       "470v/7c           0               0                    0             0   \n",
       "\n",
       "         vendor_siemens  vendor_sperry  vendor_sratus  vendor_wang  \n",
       "32/60                 0              0              0            0  \n",
       "470v/7                0              0              0            0  \n",
       "470v/7a               0              0              0            0  \n",
       "470v/7b               0              0              0            0  \n",
       "470v/7c               0              0              0            0  \n",
       "\n",
       "[5 rows x 35 columns]"
      ]
     },
     "execution_count": 29,
     "metadata": {},
     "output_type": "execute_result"
    }
   ],
   "source": [
    "df_dummies.head()"
   ]
  },
  {
   "cell_type": "markdown",
   "metadata": {},
   "source": [
    "#### Data"
   ]
  },
  {
   "cell_type": "code",
   "execution_count": 30,
   "metadata": {},
   "outputs": [],
   "source": [
    "X = df_dummies.values"
   ]
  },
  {
   "cell_type": "markdown",
   "metadata": {},
   "source": [
    "#### Train"
   ]
  },
  {
   "cell_type": "code",
   "execution_count": 31,
   "metadata": {},
   "outputs": [],
   "source": [
    "my_linreg.fit(X,y);\n",
    "sk_linreg.fit(X,y);"
   ]
  },
  {
   "cell_type": "markdown",
   "metadata": {},
   "source": [
    "#### Params"
   ]
  },
  {
   "cell_type": "code",
   "execution_count": 32,
   "metadata": {},
   "outputs": [
    {
     "data": {
      "text/html": [
       "<div>\n",
       "<style scoped>\n",
       "    .dataframe tbody tr th:only-of-type {\n",
       "        vertical-align: middle;\n",
       "    }\n",
       "\n",
       "    .dataframe tbody tr th {\n",
       "        vertical-align: top;\n",
       "    }\n",
       "\n",
       "    .dataframe thead th {\n",
       "        text-align: right;\n",
       "    }\n",
       "</style>\n",
       "<table border=\"1\" class=\"dataframe\">\n",
       "  <thead>\n",
       "    <tr style=\"text-align: right;\">\n",
       "      <th></th>\n",
       "      <th>My</th>\n",
       "      <th>Sk</th>\n",
       "    </tr>\n",
       "  </thead>\n",
       "  <tbody>\n",
       "    <tr>\n",
       "      <th>0</th>\n",
       "      <td>0.027118</td>\n",
       "      <td>0.027118</td>\n",
       "    </tr>\n",
       "    <tr>\n",
       "      <th>1</th>\n",
       "      <td>0.019826</td>\n",
       "      <td>0.019826</td>\n",
       "    </tr>\n",
       "    <tr>\n",
       "      <th>2</th>\n",
       "      <td>0.003696</td>\n",
       "      <td>0.003696</td>\n",
       "    </tr>\n",
       "    <tr>\n",
       "      <th>3</th>\n",
       "      <td>0.716225</td>\n",
       "      <td>0.716225</td>\n",
       "    </tr>\n",
       "    <tr>\n",
       "      <th>4</th>\n",
       "      <td>-1.746707</td>\n",
       "      <td>-1.746707</td>\n",
       "    </tr>\n",
       "    <tr>\n",
       "      <th>5</th>\n",
       "      <td>2.397504</td>\n",
       "      <td>2.397504</td>\n",
       "    </tr>\n",
       "    <tr>\n",
       "      <th>6</th>\n",
       "      <td>209.791184</td>\n",
       "      <td>209.791184</td>\n",
       "    </tr>\n",
       "    <tr>\n",
       "      <th>7</th>\n",
       "      <td>286.803656</td>\n",
       "      <td>286.803656</td>\n",
       "    </tr>\n",
       "    <tr>\n",
       "      <th>8</th>\n",
       "      <td>240.619188</td>\n",
       "      <td>240.619188</td>\n",
       "    </tr>\n",
       "    <tr>\n",
       "      <th>9</th>\n",
       "      <td>235.786589</td>\n",
       "      <td>235.786589</td>\n",
       "    </tr>\n",
       "    <tr>\n",
       "      <th>10</th>\n",
       "      <td>185.360415</td>\n",
       "      <td>185.360415</td>\n",
       "    </tr>\n",
       "    <tr>\n",
       "      <th>11</th>\n",
       "      <td>291.791477</td>\n",
       "      <td>291.791477</td>\n",
       "    </tr>\n",
       "    <tr>\n",
       "      <th>12</th>\n",
       "      <td>246.863411</td>\n",
       "      <td>246.863411</td>\n",
       "    </tr>\n",
       "    <tr>\n",
       "      <th>13</th>\n",
       "      <td>282.087099</td>\n",
       "      <td>282.087099</td>\n",
       "    </tr>\n",
       "    <tr>\n",
       "      <th>14</th>\n",
       "      <td>273.618514</td>\n",
       "      <td>273.618514</td>\n",
       "    </tr>\n",
       "    <tr>\n",
       "      <th>15</th>\n",
       "      <td>284.773687</td>\n",
       "      <td>284.773687</td>\n",
       "    </tr>\n",
       "    <tr>\n",
       "      <th>16</th>\n",
       "      <td>247.547292</td>\n",
       "      <td>247.547292</td>\n",
       "    </tr>\n",
       "    <tr>\n",
       "      <th>17</th>\n",
       "      <td>279.713507</td>\n",
       "      <td>279.713507</td>\n",
       "    </tr>\n",
       "    <tr>\n",
       "      <th>18</th>\n",
       "      <td>235.820497</td>\n",
       "      <td>235.820497</td>\n",
       "    </tr>\n",
       "    <tr>\n",
       "      <th>19</th>\n",
       "      <td>243.237102</td>\n",
       "      <td>243.237102</td>\n",
       "    </tr>\n",
       "    <tr>\n",
       "      <th>20</th>\n",
       "      <td>191.563073</td>\n",
       "      <td>191.563073</td>\n",
       "    </tr>\n",
       "    <tr>\n",
       "      <th>21</th>\n",
       "      <td>236.709138</td>\n",
       "      <td>236.709138</td>\n",
       "    </tr>\n",
       "    <tr>\n",
       "      <th>22</th>\n",
       "      <td>254.624670</td>\n",
       "      <td>254.624670</td>\n",
       "    </tr>\n",
       "    <tr>\n",
       "      <th>23</th>\n",
       "      <td>234.764842</td>\n",
       "      <td>234.764842</td>\n",
       "    </tr>\n",
       "    <tr>\n",
       "      <th>24</th>\n",
       "      <td>225.610960</td>\n",
       "      <td>225.610960</td>\n",
       "    </tr>\n",
       "    <tr>\n",
       "      <th>25</th>\n",
       "      <td>3.017940</td>\n",
       "      <td>3.017940</td>\n",
       "    </tr>\n",
       "    <tr>\n",
       "      <th>26</th>\n",
       "      <td>235.699240</td>\n",
       "      <td>235.699240</td>\n",
       "    </tr>\n",
       "    <tr>\n",
       "      <th>27</th>\n",
       "      <td>203.072013</td>\n",
       "      <td>203.072013</td>\n",
       "    </tr>\n",
       "    <tr>\n",
       "      <th>28</th>\n",
       "      <td>255.497387</td>\n",
       "      <td>255.497387</td>\n",
       "    </tr>\n",
       "    <tr>\n",
       "      <th>29</th>\n",
       "      <td>272.544563</td>\n",
       "      <td>272.544563</td>\n",
       "    </tr>\n",
       "    <tr>\n",
       "      <th>30</th>\n",
       "      <td>273.205922</td>\n",
       "      <td>273.205922</td>\n",
       "    </tr>\n",
       "    <tr>\n",
       "      <th>31</th>\n",
       "      <td>233.795669</td>\n",
       "      <td>233.795669</td>\n",
       "    </tr>\n",
       "    <tr>\n",
       "      <th>32</th>\n",
       "      <td>277.782610</td>\n",
       "      <td>277.782610</td>\n",
       "    </tr>\n",
       "    <tr>\n",
       "      <th>33</th>\n",
       "      <td>244.246528</td>\n",
       "      <td>244.246528</td>\n",
       "    </tr>\n",
       "    <tr>\n",
       "      <th>34</th>\n",
       "      <td>289.287089</td>\n",
       "      <td>289.287089</td>\n",
       "    </tr>\n",
       "  </tbody>\n",
       "</table>\n",
       "</div>"
      ],
      "text/plain": [
       "            My          Sk\n",
       "0     0.027118    0.027118\n",
       "1     0.019826    0.019826\n",
       "2     0.003696    0.003696\n",
       "3     0.716225    0.716225\n",
       "4    -1.746707   -1.746707\n",
       "5     2.397504    2.397504\n",
       "6   209.791184  209.791184\n",
       "7   286.803656  286.803656\n",
       "8   240.619188  240.619188\n",
       "9   235.786589  235.786589\n",
       "10  185.360415  185.360415\n",
       "11  291.791477  291.791477\n",
       "12  246.863411  246.863411\n",
       "13  282.087099  282.087099\n",
       "14  273.618514  273.618514\n",
       "15  284.773687  284.773687\n",
       "16  247.547292  247.547292\n",
       "17  279.713507  279.713507\n",
       "18  235.820497  235.820497\n",
       "19  243.237102  243.237102\n",
       "20  191.563073  191.563073\n",
       "21  236.709138  236.709138\n",
       "22  254.624670  254.624670\n",
       "23  234.764842  234.764842\n",
       "24  225.610960  225.610960\n",
       "25    3.017940    3.017940\n",
       "26  235.699240  235.699240\n",
       "27  203.072013  203.072013\n",
       "28  255.497387  255.497387\n",
       "29  272.544563  272.544563\n",
       "30  273.205922  273.205922\n",
       "31  233.795669  233.795669\n",
       "32  277.782610  277.782610\n",
       "33  244.246528  244.246528\n",
       "34  289.287089  289.287089"
      ]
     },
     "execution_count": 32,
     "metadata": {},
     "output_type": "execute_result"
    }
   ],
   "source": [
    "df_params = pd.DataFrame({'My':my_linreg.coef_.flatten(),'Sk':sk_linreg.coef_.flatten()})\n",
    "df_params"
   ]
  },
  {
   "cell_type": "markdown",
   "metadata": {},
   "source": [
    "#### prediction metrics"
   ]
  },
  {
   "cell_type": "code",
   "execution_count": 33,
   "metadata": {},
   "outputs": [],
   "source": [
    "my_y_pred = my_linreg.predict(X)\n",
    "sk_y_pred = sk_linreg.predict(X)"
   ]
  },
  {
   "cell_type": "code",
   "execution_count": 34,
   "metadata": {},
   "outputs": [
    {
     "name": "stdout",
     "output_type": "stream",
     "text": [
      "R^2:\n",
      "\tmy: 0.9033233559522591\n",
      "\tsk =  0.9033233559522592\n",
      "MAE:\n",
      "\tmy: 31.50492392435971\n",
      "\tsk =  31.50492392435992\n",
      "MSE:\n",
      "\tmy: 2488.7237835212813\n",
      "\tsk =  2488.723783521282\n"
     ]
    }
   ],
   "source": [
    "print('R^2:\\n\\tmy:',my_linreg.score(X,y))\n",
    "print('\\tsk = ',sk_linreg.score(X,y))\n",
    "print('MAE:\\n\\tmy:',mean_absolute_error(y,my_y_pred))\n",
    "print('\\tsk = ',mean_absolute_error(y,sk_y_pred))\n",
    "print('MSE:\\n\\tmy:',mean_squared_error(y,my_y_pred))\n",
    "print('\\tsk = ',mean_squared_error(y,sk_y_pred))"
   ]
  },
  {
   "cell_type": "code",
   "execution_count": null,
   "metadata": {},
   "outputs": [],
   "source": []
  }
 ],
 "metadata": {
  "kernelspec": {
   "display_name": "Python 3",
   "language": "python",
   "name": "python3"
  },
  "language_info": {
   "codemirror_mode": {
    "name": "ipython",
    "version": 3
   },
   "file_extension": ".py",
   "mimetype": "text/x-python",
   "name": "python",
   "nbconvert_exporter": "python",
   "pygments_lexer": "ipython3",
   "version": "3.7.2"
  }
 },
 "nbformat": 4,
 "nbformat_minor": 2
}
