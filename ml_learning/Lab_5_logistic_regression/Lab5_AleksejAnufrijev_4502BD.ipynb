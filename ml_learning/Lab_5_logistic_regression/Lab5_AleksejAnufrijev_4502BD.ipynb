{
 "cells": [
  {
   "cell_type": "markdown",
   "metadata": {},
   "source": [
    "# Libs"
   ]
  },
  {
   "cell_type": "code",
   "execution_count": 1,
   "metadata": {},
   "outputs": [],
   "source": [
    "import numpy as np\n",
    "import pandas as pd\n",
    "import matplotlib.pyplot as plt\n",
    "from sklearn import preprocessing\n",
    "from sklearn.model_selection import train_test_split\n",
    "from sklearn.utils import shuffle\n",
    "from sklearn.metrics import accuracy_score\n",
    "from sklearn import preprocessing\n",
    "import time\n",
    "import seaborn as sns\n",
    "import matplotlib.pyplot as plt"
   ]
  },
  {
   "cell_type": "markdown",
   "metadata": {},
   "source": [
    "# LogReg"
   ]
  },
  {
   "cell_type": "code",
   "execution_count": 2,
   "metadata": {},
   "outputs": [],
   "source": [
    "class LogisticRegression_:\n",
    "    def __init__(self,threshold = 0.5, tol = 0.01):\n",
    "        self.__threshold = threshold\n",
    "        self.__tol = tol\n",
    "\n",
    "    def predict(self,X):\n",
    "        return self.__quantizer(self.__activator(X))\n",
    "\n",
    "    def __activator(self,X):\n",
    "        return self.__sigmoid(self.__net_input(X))\n",
    "\n",
    "    def __net_input(self, X):\n",
    "        return np.dot(X,self.coef_) + self.intercept_\n",
    "\n",
    "    def __sigmoid(self, net_input):\n",
    "        s = 1.0/(1.0 + np.exp(-net_input))\n",
    "        np.minimum(s, 1.0 - np.finfo(np.float64).eps,out=s)\n",
    "        np.maximum(s, np.finfo(np.float64).eps,out=s)\n",
    "        return s\n",
    "\n",
    "    def __quantizer(self, positive_propability):\n",
    "        return np.where(positive_propability > self.__threshold, 1, 0)\n",
    "    \n",
    "    def cost(self,X,y):\n",
    "        p = self.__sigmoid(self.__net_input(X))\n",
    "        return (y*np.log(p) + (1-y)*np.log(1-p)).sum()\n",
    "    \n",
    "    def __split_mini_batch(self,X,y,batch_count):\n",
    "        n,_=X.shape\n",
    "        rX,ry = shuffle(X,y)\n",
    "        if batch_count > n:\n",
    "            batch_count = n\n",
    "        rx = np.array_split(rX,batch_count)\n",
    "        ry = np.array_split(ry,batch_count)\n",
    "        return zip(rx,ry)\n",
    "        \n",
    "    def fit(self,X,y_true,learning_rate,batch_count):\n",
    "        it = 0\n",
    "        y_true = y_true.reshape((-1,1))\n",
    "        (n,m) = X.shape\n",
    "        self.coef_ = np.random.normal( size = (m,1))\n",
    "        self.intercept_ = np.random.normal()\n",
    "        current_cost = self.cost(X,y)\n",
    "        while it < 1000:\n",
    "            prev_cost = current_cost\n",
    "            Mini_batches = self.__split_mini_batch(X,y_true,batch_count)\n",
    "            for Xi,yi in Mini_batches:\n",
    "                y_p = self.__activator(Xi)\n",
    "                error = yi - y_p\n",
    "                d_intercept = learning_rate * error.sum()\n",
    "                d_coef = learning_rate * (Xi.T).dot(error)\n",
    "                self.coef_ += d_coef\n",
    "                self.intercept_ += d_intercept\n",
    "            current_cost = self.cost(X,y)\n",
    "            if(abs(prev_cost - current_cost) < self.__tol):\n",
    "                break\n",
    "            it+=1\n",
    "        self.it=it\n",
    "        return self\n",
    "log_reg = LogisticRegression_()"
   ]
  },
  {
   "cell_type": "markdown",
   "metadata": {},
   "source": [
    "# Iris Data"
   ]
  },
  {
   "cell_type": "code",
   "execution_count": 3,
   "metadata": {},
   "outputs": [],
   "source": [
    "df = pd.read_csv(filepath_or_buffer='data/iris.csv',sep=',',nrows=100)\n",
    "df['label'] = preprocessing.LabelEncoder().fit_transform(df['label'])\n",
    "df = shuffle(df)"
   ]
  },
  {
   "cell_type": "code",
   "execution_count": 4,
   "metadata": {},
   "outputs": [],
   "source": [
    "params = ['sepal length','sepal width']"
   ]
  },
  {
   "cell_type": "code",
   "execution_count": 5,
   "metadata": {},
   "outputs": [],
   "source": [
    "y = df['label'].values\n",
    "X = df[params].values"
   ]
  },
  {
   "cell_type": "markdown",
   "metadata": {},
   "source": [
    "## Batch count = 1 => GD"
   ]
  },
  {
   "cell_type": "code",
   "execution_count": 6,
   "metadata": {},
   "outputs": [
    {
     "name": "stdout",
     "output_type": "stream",
     "text": [
      "time : -0.49449753761291504\n",
      "iterations : 1000\n"
     ]
    }
   ],
   "source": [
    "now = time.time()\n",
    "log_reg.fit(X,y,0.01,1)\n",
    "print('time :',now - time.time())\n",
    "print('iterations :',log_reg.it)"
   ]
  },
  {
   "cell_type": "code",
   "execution_count": 7,
   "metadata": {},
   "outputs": [
    {
     "name": "stdout",
     "output_type": "stream",
     "text": [
      "accuracy =  0.99\n"
     ]
    }
   ],
   "source": [
    "print('accuracy = ',accuracy_score(y,log_reg.predict(X)))"
   ]
  },
  {
   "cell_type": "markdown",
   "metadata": {},
   "source": [
    "## Batch count 100 => SGD"
   ]
  },
  {
   "cell_type": "code",
   "execution_count": 8,
   "metadata": {},
   "outputs": [
    {
     "name": "stdout",
     "output_type": "stream",
     "text": [
      "time : -3.3810088634490967\n",
      "iterations : 1000\n"
     ]
    }
   ],
   "source": [
    "now = time.time()\n",
    "log_reg.fit(X,y,0.01,100)\n",
    "print('time :',now - time.time())\n",
    "print('iterations :',log_reg.it)"
   ]
  },
  {
   "cell_type": "code",
   "execution_count": 9,
   "metadata": {},
   "outputs": [
    {
     "name": "stdout",
     "output_type": "stream",
     "text": [
      "accuracy =  0.99\n"
     ]
    }
   ],
   "source": [
    "print('accuracy = ',accuracy_score(y,log_reg.predict(X)))"
   ]
  },
  {
   "cell_type": "markdown",
   "metadata": {},
   "source": [
    "## Batch count = 10 => mini-batch GD"
   ]
  },
  {
   "cell_type": "code",
   "execution_count": 10,
   "metadata": {},
   "outputs": [
    {
     "name": "stdout",
     "output_type": "stream",
     "text": [
      "time : -0.48947763442993164\n",
      "iterations : 1000\n"
     ]
    }
   ],
   "source": [
    "now = time.time()\n",
    "log_reg.fit(X,y,0.1,10)\n",
    "print('time :',now - time.time())\n",
    "print('iterations :',log_reg.it)"
   ]
  },
  {
   "cell_type": "code",
   "execution_count": 11,
   "metadata": {},
   "outputs": [
    {
     "name": "stdout",
     "output_type": "stream",
     "text": [
      "accuracy =  0.99\n"
     ]
    }
   ],
   "source": [
    "y_pred = log_reg.predict(X)\n",
    "print('accuracy = ',accuracy_score(y,y_pred))"
   ]
  },
  {
   "cell_type": "code",
   "execution_count": 16,
   "metadata": {},
   "outputs": [],
   "source": [
    "b = log_reg.intercept_\n",
    "w0 = log_reg.coef_[0]\n",
    "w1 = log_reg.coef_[1]"
   ]
  },
  {
   "cell_type": "code",
   "execution_count": 17,
   "metadata": {},
   "outputs": [],
   "source": [
    "slope = -(b / w1)/(b/w0)\n",
    "intercept = -b / w1\n",
    "decision_boundary = lambda x : ((slope*x) + intercept)"
   ]
  },
  {
   "cell_type": "code",
   "execution_count": 18,
   "metadata": {},
   "outputs": [
    {
     "data": {
      "image/png": "[encoded data removed]",
      "text/plain": [
       "<Figure size 432x288 with 1 Axes>"
      ]
     },
     "metadata": {
      "needs_background": "light"
     },
     "output_type": "display_data"
    }
   ],
   "source": [
    "plt.figure().suptitle('Error')\n",
    "X_plot = np.linspace(df[params[0]].min(), df[params[0]].max())\n",
    "Y_plot = decision_boundary(X_plot)\n",
    "plt.plot(X_plot, Y_plot, linestyle=':')\n",
    "plt.scatter(X[:,0],X[:,1],label=params,c = (y == y_pred.ravel()))\n",
    "plt.legend(('decision boundary', 'samples'),loc='upper right')\n",
    "plt.show()"
   ]
  },
  {
   "cell_type": "markdown",
   "metadata": {},
   "source": [
    "# Heart"
   ]
  },
  {
   "cell_type": "markdown",
   "metadata": {},
   "source": [
    "Attribute Information:\n",
    "------------------------\n",
    "      -- 1. age       \n",
    "      -- 2. sex       \n",
    "      -- 3. chest pain type  (4 values)       \n",
    "      -- 4. resting blood pressure  \n",
    "      -- 5. serum cholestoral in mg/dl      \n",
    "      -- 6. fasting blood sugar > 120 mg/dl       \n",
    "      -- 7. resting electrocardiographic results  (values 0,1,2) \n",
    "      -- 8. maximum heart rate achieved  \n",
    "      -- 9. exercise induced angina    \n",
    "      -- 10. oldpeak = ST depression induced by exercise relative to rest   \n",
    "      -- 11. the slope of the peak exercise ST segment     \n",
    "      -- 12. number of major vessels (0-3) colored by flourosopy        \n",
    "      -- 13.  thal: 3 = normal; 6 = fixed defect; 7 = reversable defect     "
   ]
  },
  {
   "cell_type": "code",
   "execution_count": 19,
   "metadata": {},
   "outputs": [],
   "source": [
    "attributes = ['1','2','3','4','5','6','7','8','9','10','11','12','13','class']\n",
    "df = pd.read_csv('data/heart.csv',sep=' ',header=None,names=attributes)"
   ]
  },
  {
   "cell_type": "code",
   "execution_count": 20,
   "metadata": {},
   "outputs": [
    {
     "data": {
      "image/png": "[encoded data removed]",
      "text/plain": [
       "<Figure size 432x288 with 2 Axes>"
      ]
     },
     "metadata": {
      "needs_background": "light"
     },
     "output_type": "display_data"
    }
   ],
   "source": [
    "sns.heatmap(df.corr())\n",
    "plt.show()"
   ]
  },
  {
   "cell_type": "markdown",
   "metadata": {},
   "source": [
    "## Proportion"
   ]
  },
  {
   "cell_type": "code",
   "execution_count": 21,
   "metadata": {},
   "outputs": [
    {
     "data": {
      "text/plain": [
       "class\n",
       "1    150\n",
       "2    120\n",
       "dtype: int64"
      ]
     },
     "execution_count": 21,
     "metadata": {},
     "output_type": "execute_result"
    }
   ],
   "source": [
    "df.groupby('class').size()"
   ]
  },
  {
   "cell_type": "markdown",
   "metadata": {},
   "source": [
    "## Preprocess"
   ]
  },
  {
   "cell_type": "code",
   "execution_count": 22,
   "metadata": {},
   "outputs": [],
   "source": [
    "real = ['1','4','5','8','10','12']\n",
    "ordered = ['11']\n",
    "binary = ['2','6','9']\n",
    "nominal = ['7','3','13']"
   ]
  },
  {
   "cell_type": "markdown",
   "metadata": {},
   "source": [
    "Variable to be predicted\n",
    "---------------------------------\n",
    "Absence (1) or presence (2) of heart disease\n",
    "\n",
    "Cost Matrix\n",
    "\n",
    "\t     abse  pres\n",
    "absence\t &nbsp;&nbsp;&nbsp;&nbsp;&nbsp;   0 &nbsp;&nbsp;&nbsp;&nbsp;&nbsp; 1<br>\n",
    "presence &nbsp;&nbsp;&nbsp;&nbsp;   5 &nbsp;&nbsp;&nbsp;&nbsp;&nbsp;\t0"
   ]
  },
  {
   "cell_type": "code",
   "execution_count": 23,
   "metadata": {},
   "outputs": [],
   "source": [
    "df['class'] = df['class'].replace({2:1,1:0})\n",
    "df = pd.get_dummies(df,columns=nominal+binary,drop_first = True)\n",
    "df[real] = preprocessing.StandardScaler().fit_transform(df[real].values)\n",
    "df[ordered] = preprocessing.MinMaxScaler().fit_transform(df[ordered].values)"
   ]
  },
  {
   "cell_type": "markdown",
   "metadata": {},
   "source": [
    "## Data split"
   ]
  },
  {
   "cell_type": "code",
   "execution_count": 24,
   "metadata": {},
   "outputs": [],
   "source": [
    "y = df['class'].values\n",
    "X = df.drop(columns = 'class').values"
   ]
  },
  {
   "cell_type": "code",
   "execution_count": 25,
   "metadata": {},
   "outputs": [],
   "source": [
    "X_train,X_validation,y_train,y_validation = train_test_split(X,y,test_size = 0.2)"
   ]
  },
  {
   "cell_type": "markdown",
   "metadata": {},
   "source": [
    "## Training"
   ]
  },
  {
   "cell_type": "code",
   "execution_count": 26,
   "metadata": {},
   "outputs": [],
   "source": [
    "y_train_prediction = log_reg.fit(X_train,y_train,0.01,8).predict(X_train)"
   ]
  },
  {
   "cell_type": "markdown",
   "metadata": {},
   "source": [
    "## Accuracy on test set"
   ]
  },
  {
   "cell_type": "code",
   "execution_count": 27,
   "metadata": {},
   "outputs": [
    {
     "name": "stdout",
     "output_type": "stream",
     "text": [
      "0.8657407407407407\n"
     ]
    }
   ],
   "source": [
    "print(accuracy_score(y_train,y_train_prediction.ravel()))"
   ]
  },
  {
   "cell_type": "markdown",
   "metadata": {},
   "source": [
    "## Accuracy on validation set"
   ]
  },
  {
   "cell_type": "code",
   "execution_count": 28,
   "metadata": {},
   "outputs": [
    {
     "name": "stdout",
     "output_type": "stream",
     "text": [
      "0.9074074074074074\n"
     ]
    }
   ],
   "source": [
    "print(accuracy_score(y_validation,log_reg.predict(X_validation)))"
   ]
  },
  {
   "cell_type": "markdown",
   "metadata": {},
   "source": [
    "# LogReg with 0.7 threshold"
   ]
  },
  {
   "cell_type": "code",
   "execution_count": 29,
   "metadata": {},
   "outputs": [],
   "source": [
    "log_reg_2 = LogisticRegression_(threshold=0.7)"
   ]
  },
  {
   "cell_type": "code",
   "execution_count": 30,
   "metadata": {},
   "outputs": [],
   "source": [
    "log_reg_2.fit(X_train,y_train,0.01,8);"
   ]
  },
  {
   "cell_type": "markdown",
   "metadata": {},
   "source": [
    "## Accuracy on train"
   ]
  },
  {
   "cell_type": "code",
   "execution_count": 31,
   "metadata": {},
   "outputs": [
    {
     "name": "stdout",
     "output_type": "stream",
     "text": [
      "0.8379629629629629\n"
     ]
    }
   ],
   "source": [
    "print(accuracy_score(y_train,log_reg_2.predict(X_train)))"
   ]
  },
  {
   "cell_type": "markdown",
   "metadata": {},
   "source": [
    "## Accuracy on validation"
   ]
  },
  {
   "cell_type": "code",
   "execution_count": 32,
   "metadata": {},
   "outputs": [
    {
     "name": "stdout",
     "output_type": "stream",
     "text": [
      "0.8703703703703703\n"
     ]
    }
   ],
   "source": [
    "print(accuracy_score(y_validation,log_reg_2.predict(X_validation)))"
   ]
  },
  {
   "cell_type": "markdown",
   "metadata": {},
   "source": [
    "# LogReg with 0.25 threshold"
   ]
  },
  {
   "cell_type": "code",
   "execution_count": 33,
   "metadata": {},
   "outputs": [],
   "source": [
    "log_reg_3 = LogisticRegression_(threshold=0.25)"
   ]
  },
  {
   "cell_type": "code",
   "execution_count": 34,
   "metadata": {},
   "outputs": [],
   "source": [
    "log_reg_3.fit(X_train,y_train,0.01,8);"
   ]
  },
  {
   "cell_type": "markdown",
   "metadata": {},
   "source": [
    "## Accuracy on train"
   ]
  },
  {
   "cell_type": "code",
   "execution_count": 35,
   "metadata": {},
   "outputs": [
    {
     "name": "stdout",
     "output_type": "stream",
     "text": [
      "0.8425925925925926\n"
     ]
    }
   ],
   "source": [
    "print(accuracy_score(y_train,log_reg_3.predict(X_train)))"
   ]
  },
  {
   "cell_type": "markdown",
   "metadata": {},
   "source": [
    "## Accuracy on test"
   ]
  },
  {
   "cell_type": "code",
   "execution_count": 36,
   "metadata": {},
   "outputs": [
    {
     "name": "stdout",
     "output_type": "stream",
     "text": [
      "0.8518518518518519\n"
     ]
    }
   ],
   "source": [
    "print(accuracy_score(y_validation,log_reg_3.predict(X_validation)))"
   ]
  }
 ],
 "metadata": {
  "kernelspec": {
   "display_name": "Python 3",
   "language": "python",
   "name": "python3"
  },
  "language_info": {
   "codemirror_mode": {
    "name": "ipython",
    "version": 3
   },
   "file_extension": ".py",
   "mimetype": "text/x-python",
   "name": "python",
   "nbconvert_exporter": "python",
   "pygments_lexer": "ipython3",
   "version": "3.7.2"
  }
 },
 "nbformat": 4,
 "nbformat_minor": 2
}
